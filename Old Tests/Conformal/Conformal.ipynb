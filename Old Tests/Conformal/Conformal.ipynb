{
 "cells": [
  {
   "cell_type": "code",
   "execution_count": 57,
   "metadata": {
    "collapsed": true
   },
   "outputs": [],
   "source": [
    "%matplotlib inline\n",
    "import numpy as np\n",
    "from scipy import signal\n",
    "from scipy import ndimage #can't belive numpy and base scipy don't have circular convolution\n",
    "from matplotlib import pyplot as plt"
   ]
  },
  {
   "cell_type": "code",
   "execution_count": 166,
   "metadata": {
    "collapsed": true
   },
   "outputs": [],
   "source": [
    "N_points = 500\n",
    "x = 2*np.pi*(np.linspace(0,1-1./N_points,N_points)+.5/N_points)\n",
    "dx = np.ones_like(x)/len(x)"
   ]
  },
  {
   "cell_type": "markdown",
   "metadata": {},
   "source": [
    "Algorithm for generating"
   ]
  },
  {
   "cell_type": "code",
   "execution_count": 167,
   "metadata": {
    "collapsed": true
   },
   "outputs": [],
   "source": [
    "def integr(f, mu = None): #default is lebesgue measure\n",
    "    if mu is None:\n",
    "        mu = dx\n",
    "    return np.sum(f*mu)\n",
    "\n",
    "def convolve(f,mu): #we will only convolve functions against measures, so no normalisation\n",
    "    return ndimage.filters.convolve1d(f,mu,mode='wrap')\n",
    "\n",
    "def diff(f, dmu=None): #derivative of the Radon-Nykodim derivative as a measure\n",
    "                      #(default wrt dx)\n",
    "    if dmu is None:\n",
    "        dmu = dx\n",
    "        \n",
    "    df = np.zeros_like(f)\n",
    "    df[:-1]+=f[1: ]; df[-1]+=f[0]\n",
    "    df[1:] -=f[:-1]; df[0] -=f[-1]\n",
    "\n",
    "    return df/dmu/2."
   ]
  },
  {
   "cell_type": "code",
   "execution_count": 168,
   "metadata": {
    "collapsed": true
   },
   "outputs": [],
   "source": [
    "def dmudt(mu):\n",
    "    #everything is more or less well defined in the sense of:\n",
    "    # conv: (measure x function)-> function\n",
    "    # times: (measure x function)-> measure\n",
    "    # RN derivative: (measure x measure) -> measure (I'm allowing more than usual here!)\n",
    "    f = 1/np.tan(x/2.)\n",
    "    return -diff(convolve(f,mu)*mu)+mu\n",
    "def euler_scheme(x0, f, step_size, n_steps):\n",
    "    x = np.copy(x0)\n",
    "    for i in range(n_steps):\n",
    "        x+=step_size*f(x)\n",
    "    return x"
   ]
  },
  {
   "cell_type": "markdown",
   "metadata": {
    "collapsed": true
   },
   "source": [
    "# 1-dimensional random measure\n",
    "\n",
    "We define an analogous of the 2-dimensional regularization procedure for LQG in order to obtain a random noise measure on $S^1$ which has a similar conformal covariance structure to LQG. We want to define it in such a way that it is a locally independent random measure. Start as follows:\n",
    "\n",
    "Let $\\phi_\\epsilon(t) = \\partial_t ( \\epsilon^{-1/2}\\chi_{[0,\\epsilon]} \\ast W(t))$ that is, a regularized version of the derivative of the brownian motion, with covariance function $<\\chi(x),\\chi(y)>$. Take the exponential of that."
   ]
  },
  {
   "cell_type": "code",
   "execution_count": null,
   "metadata": {
    "collapsed": true
   },
   "outputs": [],
   "source": []
  }
 ],
 "metadata": {
  "kernelspec": {
   "display_name": "Python 2",
   "language": "python",
   "name": "python2"
  },
  "language_info": {
   "codemirror_mode": {
    "name": "ipython",
    "version": 2
   },
   "file_extension": ".py",
   "mimetype": "text/x-python",
   "name": "python",
   "nbconvert_exporter": "python",
   "pygments_lexer": "ipython2",
   "version": "2.7.13"
  },
  "toc": {
   "colors": {
    "hover_highlight": "#DAA520",
    "navigate_num": "#000000",
    "navigate_text": "#333333",
    "running_highlight": "#FF0000",
    "selected_highlight": "#FFD700",
    "sidebar_border": "#EEEEEE",
    "wrapper_background": "#FFFFFF"
   },
   "moveMenuLeft": true,
   "nav_menu": {
    "height": "12px",
    "width": "252px"
   },
   "navigate_menu": true,
   "number_sections": true,
   "sideBar": true,
   "threshold": 4,
   "toc_cell": false,
   "toc_section_display": "block",
   "toc_window_display": false,
   "widenNotebook": false
  }
 },
 "nbformat": 4,
 "nbformat_minor": 2
}
